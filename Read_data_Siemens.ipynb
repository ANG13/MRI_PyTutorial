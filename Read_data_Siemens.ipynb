{
  "nbformat": 4,
  "nbformat_minor": 0,
  "metadata": {
    "colab": {
      "name": "Read_data_Siemens.ipynb",
      "provenance": []
    },
    "kernelspec": {
      "name": "python3",
      "display_name": "Python 3"
    },
    "language_info": {
      "name": "python"
    }
  },
  "cells": [
    {
      "cell_type": "markdown",
      "metadata": {
        "id": "pOJWSzCYDsSa"
      },
      "source": [
        "# Read MR data from Siemens (R) MR scanner \n",
        "\n",
        "Data will be stored in *.dat format, which should be uploaded to the notebook. \n",
        "\n",
        "Enjoy!\n",
        "\n",
        "Andreia S Gaspar @ IST/ISR May 2021\n"
      ]
    },
    {
      "cell_type": "markdown",
      "metadata": {
        "id": "G91pKJmjD9PJ"
      },
      "source": [
        "## Install **pyMapVBVD** package "
      ]
    },
    {
      "cell_type": "code",
      "metadata": {
        "colab": {
          "base_uri": "https://localhost:8080/"
        },
        "id": "F1wVtif_2Lhj",
        "outputId": "96d0f2ae-9296-47fe-c98a-a70881ccd631"
      },
      "source": [
        "pip install pyMapVBVD"
      ],
      "execution_count": 106,
      "outputs": [
        {
          "output_type": "stream",
          "text": [
            "Requirement already satisfied: pyMapVBVD in /usr/local/lib/python3.7/dist-packages (0.4.1)\n",
            "Requirement already satisfied: attrdict in /usr/local/lib/python3.7/dist-packages (from pyMapVBVD) (2.0.1)\n",
            "Requirement already satisfied: h5py in /usr/local/lib/python3.7/dist-packages (from pyMapVBVD) (2.10.0)\n",
            "Requirement already satisfied: tqdm in /usr/local/lib/python3.7/dist-packages (from pyMapVBVD) (4.41.1)\n",
            "Requirement already satisfied: dataclasses in /usr/local/lib/python3.7/dist-packages (from pyMapVBVD) (0.6)\n",
            "Requirement already satisfied: matplotlib in /usr/local/lib/python3.7/dist-packages (from pyMapVBVD) (3.2.2)\n",
            "Requirement already satisfied: pytest in /usr/local/lib/python3.7/dist-packages (from pyMapVBVD) (3.6.4)\n",
            "Requirement already satisfied: setuptools in /usr/local/lib/python3.7/dist-packages (from pyMapVBVD) (56.1.0)\n",
            "Requirement already satisfied: scipy in /usr/local/lib/python3.7/dist-packages (from pyMapVBVD) (1.4.1)\n",
            "Requirement already satisfied: numpy in /usr/local/lib/python3.7/dist-packages (from pyMapVBVD) (1.19.5)\n",
            "Requirement already satisfied: six in /usr/local/lib/python3.7/dist-packages (from attrdict->pyMapVBVD) (1.15.0)\n",
            "Requirement already satisfied: kiwisolver>=1.0.1 in /usr/local/lib/python3.7/dist-packages (from matplotlib->pyMapVBVD) (1.3.1)\n",
            "Requirement already satisfied: python-dateutil>=2.1 in /usr/local/lib/python3.7/dist-packages (from matplotlib->pyMapVBVD) (2.8.1)\n",
            "Requirement already satisfied: pyparsing!=2.0.4,!=2.1.2,!=2.1.6,>=2.0.1 in /usr/local/lib/python3.7/dist-packages (from matplotlib->pyMapVBVD) (2.4.7)\n",
            "Requirement already satisfied: cycler>=0.10 in /usr/local/lib/python3.7/dist-packages (from matplotlib->pyMapVBVD) (0.10.0)\n",
            "Requirement already satisfied: py>=1.5.0 in /usr/local/lib/python3.7/dist-packages (from pytest->pyMapVBVD) (1.10.0)\n",
            "Requirement already satisfied: attrs>=17.4.0 in /usr/local/lib/python3.7/dist-packages (from pytest->pyMapVBVD) (20.3.0)\n",
            "Requirement already satisfied: more-itertools>=4.0.0 in /usr/local/lib/python3.7/dist-packages (from pytest->pyMapVBVD) (8.7.0)\n",
            "Requirement already satisfied: atomicwrites>=1.0 in /usr/local/lib/python3.7/dist-packages (from pytest->pyMapVBVD) (1.4.0)\n",
            "Requirement already satisfied: pluggy<0.8,>=0.5 in /usr/local/lib/python3.7/dist-packages (from pytest->pyMapVBVD) (0.7.1)\n"
          ],
          "name": "stdout"
        }
      ]
    },
    {
      "cell_type": "markdown",
      "metadata": {
        "id": "J8cVrcw4E2a0"
      },
      "source": [
        "## Import mapvbvd and read file *.dat"
      ]
    },
    {
      "cell_type": "code",
      "metadata": {
        "colab": {
          "base_uri": "https://localhost:8080/"
        },
        "id": "cw3DbvOD18lb",
        "outputId": "a36c1399-1bfd-4910-cea7-c72825151d87"
      },
      "source": [
        "import mapvbvd\n",
        "\n",
        "twixObj = mapvbvd.mapVBVD('/content/meas_MID00724_FID23972_t1_se_sag_320.dat')"
      ],
      "execution_count": 107,
      "outputs": [
        {
          "output_type": "stream",
          "text": [
            "pymapVBVD version 0.4.1\n",
            "Software version: VD\n"
          ],
          "name": "stdout"
        },
        {
          "output_type": "stream",
          "text": [
            "Scan 1/2, read all mdhs: 60.6MB [00:00, 466MB/s]                            \n",
            "Scan 2/2, read all mdhs: 111MB [00:00, 3.43GB/s]                    \n"
          ],
          "name": "stderr"
        }
      ]
    },
    {
      "cell_type": "code",
      "metadata": {
        "colab": {
          "base_uri": "https://localhost:8080/"
        },
        "id": "Ii2tqCkM_p3U",
        "outputId": "ba18a647-72cb-42b0-f8d8-03c92e2d967a"
      },
      "source": [
        "# twix image content\n",
        "twixObj[1].image"
      ],
      "execution_count": 108,
      "outputs": [
        {
          "output_type": "execute_result",
          "data": {
            "text/plain": [
              "***twix_map_obj***\n",
              "File: /content/meas_MID00724_FID23972_t1_se_sag_320.dat\n",
              "Software: vd\n",
              "Number of acquisitions read 317\n",
              "Data size is [640, 32,317,  1,  1,  1,  1,  1,  1,  1,  1,  1,  1,  1,  1,  1]\n",
              "Squeezed data size is [320,32,317] (['Col', 'Cha', 'Lin'])\n",
              "NCol = 640\n",
              "NCha = 32\n",
              "NLin  = 317\n",
              "NAve  = 1\n",
              "NSli  = 1\n",
              "NPar  = 1\n",
              "NEco  = 1\n",
              "NPhs  = 1\n",
              "NRep  = 1\n",
              "NSet  = 1\n",
              "NSeg  = 1\n",
              "NIda  = 1\n",
              "NIdb  = 1\n",
              "NIdc  = 1\n",
              "NIdd  = 1\n",
              "NIde  = 1"
            ]
          },
          "metadata": {
            "tags": []
          },
          "execution_count": 108
        }
      ]
    },
    {
      "cell_type": "markdown",
      "metadata": {
        "id": "x4NToYC8E_25"
      },
      "source": [
        "## Read Data \n",
        "\n"
      ]
    },
    {
      "cell_type": "code",
      "metadata": {
        "colab": {
          "base_uri": "https://localhost:8080/"
        },
        "id": "C-7DArvu2fmv",
        "outputId": "37c3541d-914a-4461-888f-75a6d82f5e81"
      },
      "source": [
        "from attrdict import AttrDict\n",
        "data = twixObj[1].image['']\n",
        "np.shape(data)\n",
        "data_squeeze = np.squeeze(data)\n",
        "np.shape(data_squeeze) # verify size\n"
      ],
      "execution_count": 109,
      "outputs": [
        {
          "output_type": "stream",
          "text": [
            "read data:  25%|██▍       | 78/317 [00:00<00:00, 779.42it/s]/usr/local/lib/python3.7/dist-packages/mapvbvd/twix_map_obj.py:755: RuntimeWarning: invalid value encountered in add\n",
            "  raw = (raw[:, 0] + 1j * raw[:, 1]).reshape(readShape, order='F')\n"
          ],
          "name": "stderr"
        },
        {
          "output_type": "execute_result",
          "data": {
            "text/plain": [
              "(320, 32, 317)"
            ]
          },
          "metadata": {
            "tags": []
          },
          "execution_count": 109
        }
      ]
    },
    {
      "cell_type": "markdown",
      "metadata": {
        "id": "OVncXEYyFTVH"
      },
      "source": [
        "Permute data for correct format "
      ]
    },
    {
      "cell_type": "code",
      "metadata": {
        "colab": {
          "base_uri": "https://localhost:8080/"
        },
        "id": "i7Aavp8K53nu",
        "outputId": "4bf361cc-2bda-4a18-9cc5-2634f3ccb533"
      },
      "source": [
        "# Data Dimension\n",
        "NCha = int(twixObj[1].image.NCha)\n",
        "Nslice = int(twixObj[1].image.NSli)\n",
        "Nro = int(twixObj[1].image.NCol/2) # due to oversampling \n",
        "Nline = int(twixObj[1].image.NLin)\n",
        "\n",
        "print('Number of Lines:', Nline)\n",
        "print('Number of readout points:', Nro)\n",
        "print('Number of coils:', NCha)\n",
        "\n",
        "# permute coil dimention to last \n",
        "if NSli ==1:\n",
        "  kspace =  np.moveaxis(data_squeeze, [0, 1, 2], [0, 2, 1])\n",
        "else: \n",
        "  kspace =  np.moveaxis(data_squeeze, [0, 1, 2, 3], [0, 2, 3, 1])\n",
        " "
      ],
      "execution_count": 111,
      "outputs": [
        {
          "output_type": "stream",
          "text": [
            "Number of Lines: 317\n",
            "Number of readout points: 320\n",
            "Number of coils: 32\n"
          ],
          "name": "stdout"
        }
      ]
    },
    {
      "cell_type": "code",
      "metadata": {
        "colab": {
          "base_uri": "https://localhost:8080/",
          "height": 298
        },
        "id": "7kUqCc5mBh6i",
        "outputId": "b1719eb9-d114-481e-c649-54a231de4226"
      },
      "source": [
        "from matplotlib import pyplot\n",
        "import matplotlib.pyplot as plt\n",
        "\n",
        "plt.figure(1)\n",
        "# plt.subplot(121)\n",
        "plt.imshow(np.absolute(kspace[:,:,0])) \n",
        "plt.gray()\n",
        "plt.title('k-space coil #1')"
      ],
      "execution_count": 112,
      "outputs": [
        {
          "output_type": "execute_result",
          "data": {
            "text/plain": [
              "Text(0.5, 1.0, 'k-space coil #1')"
            ]
          },
          "metadata": {
            "tags": []
          },
          "execution_count": 112
        },
        {
          "output_type": "display_data",
          "data": {
            "image/png": "[encoded data removed]",
            "text/plain": [
              "<Figure size 432x288 with 1 Axes>"
            ]
          },
          "metadata": {
            "tags": [],
            "needs_background": "light"
          }
        }
      ]
    },
    {
      "cell_type": "markdown",
      "metadata": {
        "id": "en9YTLwcFaSh"
      },
      "source": [
        "# Reconstruction with iFFT transform from k-space to space domain"
      ]
    },
    {
      "cell_type": "code",
      "metadata": {
        "colab": {
          "base_uri": "https://localhost:8080/"
        },
        "id": "K46IFTRw8Pzo",
        "outputId": "ec28e535-7fbe-4c15-c2f6-80a2acb0a09b"
      },
      "source": [
        "# iFFT transform from k-space to space domain\n",
        "\n",
        "# initialize image variable\n",
        "imspace = np.zeros((Nro, Nline, Nslice, NCha),dtype=complex)\n",
        "\n",
        "if NSli ==1:\n",
        "  sl = 0\n",
        "  for ch in range(NCha):\n",
        "    imspace[:,:,sl,ch] = np.fft.fftshift(np.fft.ifft2(kspace[:,:,ch]))\n",
        "else: \n",
        "    for ch in range(NCha):\n",
        "      for sl in range(Nslice):\n",
        "        imspace[:,:,sl,ch] = np.fft.fftshift(np.fft.ifft2(kspace[:,:,sl,ch]))\n",
        "\n",
        "# verify dimensions\n",
        "imspace_squeeze = np.squeeze(imspace)\n",
        "np.shape(imspace_squeeze)"
      ],
      "execution_count": 113,
      "outputs": [
        {
          "output_type": "execute_result",
          "data": {
            "text/plain": [
              "(320, 317, 32)"
            ]
          },
          "metadata": {
            "tags": []
          },
          "execution_count": 113
        }
      ]
    },
    {
      "cell_type": "code",
      "metadata": {
        "colab": {
          "base_uri": "https://localhost:8080/"
        },
        "id": "oQjdOpO5-7CX",
        "outputId": "362d8ad7-a92f-4703-8101-baef98d48b14"
      },
      "source": [
        "# coil combine 'sum_squares':\n",
        "images = np.sum(np.square(np.absolute(imspace)),axis=-1)\n",
        "\n",
        "np.shape(images) # final image size"
      ],
      "execution_count": 140,
      "outputs": [
        {
          "output_type": "execute_result",
          "data": {
            "text/plain": [
              "(320, 317, 1)"
            ]
          },
          "metadata": {
            "tags": []
          },
          "execution_count": 140
        }
      ]
    },
    {
      "cell_type": "code",
      "metadata": {
        "colab": {
          "base_uri": "https://localhost:8080/",
          "height": 286
        },
        "id": "MR-ZQapwAyof",
        "outputId": "5802776d-4f3c-4974-cfd9-f6380bd90c48"
      },
      "source": [
        "image_norm = np.divide(np.squeeze(images),np.max(np.squeeze(images)))\n",
        "plt.figure(1)\n",
        "plt.imshow(np.absolute(image_norm), vmax=0.2) \n",
        "plt.gray()\n",
        "plt.colorbar()\n"
      ],
      "execution_count": 141,
      "outputs": [
        {
          "output_type": "execute_result",
          "data": {
            "text/plain": [
              "<matplotlib.colorbar.Colorbar at 0x7f27e08c0410>"
            ]
          },
          "metadata": {
            "tags": []
          },
          "execution_count": 141
        },
        {
          "output_type": "display_data",
          "data": {
            "image/png": "[encoded data removed]",
            "text/plain": [
              "<Figure size 432x288 with 2 Axes>"
            ]
          },
          "metadata": {
            "tags": [],
            "needs_background": "light"
          }
        }
      ]
    }
  ]
}